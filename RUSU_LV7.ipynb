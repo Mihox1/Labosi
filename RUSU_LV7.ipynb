{
  "nbformat": 4,
  "nbformat_minor": 0,
  "metadata": {
    "colab": {
      "provenance": [],
      "gpuType": "T4",
      "include_colab_link": true
    },
    "kernelspec": {
      "name": "python3",
      "display_name": "Python 3"
    },
    "language_info": {
      "name": "python"
    },
    "accelerator": "GPU"
  },
  "cells": [
    {
      "cell_type": "markdown",
      "metadata": {
        "id": "view-in-github",
        "colab_type": "text"
      },
      "source": [
        "<a href=\"https://colab.research.google.com/github/Mihox1/RUAP-LV2/blob/main/RUSU_LV7.ipynb\" target=\"_parent\"><img src=\"https://colab.research.google.com/assets/colab-badge.svg\" alt=\"Open In Colab\"/></a>"
      ]
    },
    {
      "cell_type": "markdown",
      "source": [
        "# Sijamsko učenje\n",
        "\n",
        "Sijamsko učenje (*siamese learning*) je tehnika u strojnom učenju koja koristi paralelne neuronske mreže sa zajedničkim težinama kako bi naučile efikasnu reprezentaciju ulaznih podataka. Osnovna ideja sijamskog učenja je omogućiti mreži učenje sličnosti (*similarity learning*) između parova ulaznih primjera. Primjene uključuju prepoznavanje lica, prepoznavanje otiska prsta, verifikacija potpisa, grupiranje podataka, praćenje objekata u video zapisima itd.\n",
        "\n",
        "Sijamska mreža sastoji se od dvije identične mreže koje dijele težine. Te mreže primaju različite ulaze te generiraju reprezentacije u nižedimenzionlanom prostori (*embeddings*) za svaki od ulaza. Zatim se mjeri udaljenost između *embeddinga*.\n",
        "\n",
        "Prilikom treninga mreža treba naučiti generirati takve reprezentacije da je za ulaze iste klase (pozitivni parovi) udaljenost između reprezentacija mala, a za ulaze različitih klasa (negativni parovi) udaljenost između reprezentacija veća."
      ],
      "metadata": {
        "id": "oDvZZPYMRup9"
      }
    },
    {
      "cell_type": "markdown",
      "source": [
        "## Kontrastni gubitak (*constrastive loss*)\n",
        "\n",
        "Kontrastni gubitak definiran je na sljedeći način:\n",
        "$$L(x_1, x_2) = y * d(f(x_1), f(x_2))^2 + (1 - y) * max(0, m^2 - d(f(x_1), f(x_2))^2)$$\n",
        "\n",
        "$y$ je 1 ako su ulazne slike iste klase, 0 inače. $d(f(x_1), f(x_2))$ predstavlja udaljenost između *embeddinga* ulaznih slika. $m$ je proizvoljno odabrana margina, ako nam je udaljenost između reprezentacija negativnih parova veća od $m^2$, vrijednost funkcije gubitka će biti 0.\n",
        "\n",
        "Za mjeru udaljenosti se može koristiti L2 udaljenost:\n",
        "$$d(a, b) = \\sqrt{\\sum_{i=1}^n{(a_i - b_i)^2}}$$\n",
        "\n",
        "Kako bi udaljenost između reprezentacija bila ograničena, često se reprezentacije normaliziraju. Na ovaj način će sve reprezentacije biti točke na jediničnoj kružnici. Normiranje vektora:\n",
        "$$v_{norm} = \\frac{v}{||v||_2}$$"
      ],
      "metadata": {
        "id": "dnj7Avxylj8Z"
      }
    },
    {
      "cell_type": "markdown",
      "source": [
        "## Podatkovni skup\n",
        "\n",
        "Podatkovni skupovi za primjene za koje se koristi sijamsko učenje često imaju velik broj klasa i mali broj primjera za svaku klasu, stoga bi se nasumičnim odabiranjem parova dobio jako velik broj negativnih parova. Zbog ovoga bi mreža vrlo teško naučila raditi s pozitivnim parovima. Jedan od načina da se ovo riješi je da se generira takav podatkovni skup gdje je podjednak broj pozitivnih i negativnih parova.\n",
        "\n",
        "U nastavku je implementirano generiranje jednog ovakvog podatkovnog skupa na temelju [Omniglot](https://pytorch.org/vision/main/generated/torchvision.datasets.Omniglot.html) podatkovnog skupa."
      ],
      "metadata": {
        "id": "HRPrZlbDn6BG"
      }
    },
    {
      "cell_type": "code",
      "source": [
        "## Importing useful libraries\n",
        "import os\n",
        "import math\n",
        "import numpy as np\n",
        "import time\n",
        "import torch\n",
        "import torch.nn as nn\n",
        "import torch.nn.functional as F\n",
        "import torch.utils.data as data\n",
        "import torchvision.transforms as transforms\n",
        "import torchvision\n",
        "from torchsummary import summary\n",
        "\n",
        "import matplotlib.pyplot as plt\n",
        "from imageio.v2 import imread\n",
        "%matplotlib inline\n",
        "\n",
        "from tqdm.notebook import tqdm\n",
        "\n",
        "device = torch.device(\"cuda\") if torch.cuda.is_available() else torch.device(\"cpu\")\n",
        "print(\"Device\", device)\n",
        "\n",
        "from torch.utils.tensorboard import SummaryWriter\n",
        "\n",
        "%load_ext tensorboard"
      ],
      "metadata": {
        "id": "T5PQuVBZwGCI",
        "outputId": "c58d6e18-24ca-4345-8861-e238d2f68c4e",
        "colab": {
          "base_uri": "https://localhost:8080/"
        }
      },
      "execution_count": 3,
      "outputs": [
        {
          "output_type": "stream",
          "name": "stdout",
          "text": [
            "Device cuda\n"
          ]
        }
      ]
    },
    {
      "cell_type": "code",
      "source": [
        "batch_size = 128"
      ],
      "metadata": {
        "id": "087RYrMDwR_C"
      },
      "execution_count": 4,
      "outputs": []
    },
    {
      "cell_type": "code",
      "source": [
        "import random\n",
        "from torch.utils.data import DataLoader, Dataset\n",
        "\n",
        "class MatchedDataset(Dataset):\n",
        "  def __init__(self, original_dataset):\n",
        "    self.grouped = {}\n",
        "    self.size = len(original_dataset)\n",
        "    for i, c in original_dataset:\n",
        "      if c not in self.grouped:\n",
        "        self.grouped[c] = []\n",
        "      self.grouped[c].append(i)\n",
        "\n",
        "    self.classes = list(self.grouped.keys())\n",
        "\n",
        "  def __getitem__(self, index):\n",
        "    cls0 = random.choice(self.classes)\n",
        "    image0_idx = random.randint(0, len(self.grouped[cls0]) - 1)\n",
        "    image0 = self.grouped[cls0][image0_idx]\n",
        "    ## select random label, 1 for same class, 0 for different class\n",
        "    label = random.randint(0,1)\n",
        "    if label:\n",
        "      ## select a different image of the same class\n",
        "      while True:\n",
        "        image1_idx = random.randint(0, len(self.grouped[cls0]) - 1)\n",
        "        if image0_idx != image1_idx:\n",
        "          image1 = self.grouped[cls0][image1_idx]\n",
        "          break\n",
        "    else:\n",
        "      ## select a random image from a different class\n",
        "      while True:\n",
        "        cls1 = random.choice(self.classes)\n",
        "        if cls0 != cls1:\n",
        "          image1 = random.choice(self.grouped[cls1])\n",
        "          break\n",
        "\n",
        "    return image0, image1, label\n",
        "\n",
        "  def __len__(self):\n",
        "    return self.size"
      ],
      "metadata": {
        "id": "IDzKW4h53TVS"
      },
      "execution_count": 5,
      "outputs": []
    },
    {
      "cell_type": "code",
      "execution_count": 6,
      "metadata": {
        "id": "W0w3K3ykMyDX"
      },
      "outputs": [],
      "source": [
        "%%capture\n",
        "import torchvision.transforms as transforms\n",
        "from torchvision.datasets import Omniglot\n",
        "\n",
        "img_transform = transforms.Compose([\n",
        "    transforms.ToTensor()\n",
        "])\n",
        "\n",
        "train_original_dataset = Omniglot(root='./data/Omniglot', download=True, background=True, transform=img_transform)\n",
        "train_dataset = MatchedDataset(train_original_dataset)\n",
        "train_dataloader = DataLoader(train_dataset, batch_size=batch_size, shuffle=True)\n",
        "\n",
        "test_original_dataset = Omniglot(root='./data/Omniglot', download=True, background=False, transform=img_transform)\n",
        "test_dataset = MatchedDataset(test_original_dataset)\n",
        "test_dataloader = DataLoader(test_dataset, batch_size=batch_size, shuffle=True)"
      ]
    },
    {
      "cell_type": "code",
      "source": [
        "plt.imshow(next(iter(train_dataloader))[0][0].numpy().transpose(1, 2, 0))"
      ],
      "metadata": {
        "id": "82mdhjxKwT14",
        "outputId": "00c656a3-8840-456a-ba1b-53dd1ab0e017",
        "colab": {
          "base_uri": "https://localhost:8080/",
          "height": 451
        }
      },
      "execution_count": 7,
      "outputs": [
        {
          "output_type": "execute_result",
          "data": {
            "text/plain": [
              "<matplotlib.image.AxesImage at 0x7ef96795b130>"
            ]
          },
          "metadata": {},
          "execution_count": 7
        },
        {
          "output_type": "display_data",
          "data": {
            "text/plain": [
              "<Figure size 640x480 with 1 Axes>"
            ],
            "image/png": "[encoded data removed]"
          },
          "metadata": {}
        }
      ]
    },
    {
      "cell_type": "markdown",
      "source": [
        "## Zadaci\n",
        "\n",
        "1. Proučite podatkovni skup, prikažite primjere pozitivnih i negativnih parova.\n",
        "\n",
        "2. Prilagodite neuronsku mrežu iz 3. laboratorijske vježbe kako bi primala dvije slike iz Omniglot podatkovnog skupa i generirala reprezentacije tih ulaza. Za ovo je potrebno izbaciti posljednji, klasifikacijski, sloj te uklonite aktivacijsku funkciju novog posljednjeg sloja. Izlaze iz posljednjeg sloja [normalizirajte](https://pytorch.org/docs/stable/generated/torch.nn.functional.normalize.html).\n",
        "\n",
        "3. Implementirajte funkciju kontrastnog gubitka.\n",
        "\n",
        "4. Implementirajte funkciju za treniranje te trenirajte mrežu.\n",
        "\n",
        "5. Evaluirajte istreniranu mrežu na podacima za testiranje. Funkcija za evaluaciju treba računati točnost, preciznost i odziv. Prilikom evaluacije, potrebno je odabrati prag minimalne udaljenosti za koje će ulazne slike biti klasificirane kao različite. Evaluirajte mrežu s različitim vrijednostima te skicirajte vrijednosti točnosti, preciznosti i odziva u ovisnosti o pragu. Pomoću ove krivulje, odaberite optimalnu vrijednost praga za klasifikaciju."
      ],
      "metadata": {
        "id": "D1Ub3qVvp_-k"
      }
    },
    {
      "cell_type": "code",
      "source": [
        "import torch\n",
        "import torch.nn.functional as F\n",
        "\n",
        "def contrastive_loss(device, m=1):\n",
        "    def loss(embedding1, embedding2, label):\n",
        "        d = F.pairwise_distance(embedding1, embedding2)\n",
        "\n",
        "        loss_contrastive = torch.mean((1 - label) * torch.pow(d, 2) +\n",
        "                                      (label) * torch.pow(torch.clamp(m - d, min=0.0), 2))\n",
        "\n",
        "        return loss_contrastive\n",
        "\n",
        "    return loss\n"
      ],
      "metadata": {
        "id": "ocLdX6AeV8Hs"
      },
      "execution_count": 11,
      "outputs": []
    },
    {
      "cell_type": "code",
      "source": [
        "loss_module = contrastive_loss(device, 1)"
      ],
      "metadata": {
        "id": "5mQ4gzxZPCZ5"
      },
      "execution_count": 12,
      "outputs": []
    },
    {
      "cell_type": "code",
      "source": [
        "## Check if you implemented the loss correctly, the correct output should be 0.2750\n",
        "\n",
        "loss_module(torch.Tensor([[1, 1, 1], [0, 1, 1]]).to(device), torch.Tensor([[1, 0.8, 0.9], [0, 0.5, 0.5]]).to(device), torch.Tensor([1, 0]).to(device))"
      ],
      "metadata": {
        "id": "L3zViDb0u6Rd",
        "outputId": "cc476c27-2edf-4660-bb72-51d5601b43c8",
        "colab": {
          "base_uri": "https://localhost:8080/"
        }
      },
      "execution_count": 13,
      "outputs": [
        {
          "output_type": "execute_result",
          "data": {
            "text/plain": [
              "tensor(0.5514, device='cuda:0')"
            ]
          },
          "metadata": {},
          "execution_count": 13
        }
      ]
    },
    {
      "cell_type": "code",
      "source": [
        "def visualize_results(thresholds, results):\n",
        "  # thresholds is an array of values of the threshold, e.g. np.arange(0, 2, 0.1)\n",
        "  # results is an array of shape (len(thresholds), 3) where\n",
        "  # results[:,0] is the values of accuracy given the different thresholds\n",
        "  # and results[:,1] and results[:,2] are similarly values of precision and recall\n",
        "\n",
        "  fig, ax = plt.subplots()\n",
        "  ax.plot(thresholds, results[:,0], c='green', label='accuracy')\n",
        "  ax.plot(thresholds, results[:,1], c='blue', label='precision')\n",
        "  ax.plot(thresholds, results[:,2], c='orange', label='recall')\n",
        "  plt.legend(loc=\"lower right\")\n",
        "  plt.show()"
      ],
      "metadata": {
        "id": "NsiszX0nK8Hx"
      },
      "execution_count": 14,
      "outputs": []
    },
    {
      "cell_type": "code",
      "source": [
        "def visualize(model, dataloader, n = 6):\n",
        "  ## visualize some examples of input pairs and the distance between their embeddings\n",
        "  fig = plt.figure(constrained_layout=True, figsize=(4, 2.2*n))\n",
        "  subfigs = fig.subfigures(nrows=n, ncols=1)\n",
        "\n",
        "  for i in range(n):\n",
        "    data = next(iter(dataloader))\n",
        "    data_inputs1 = data[0][i].unsqueeze(0)\n",
        "    data_inputs2 = data[1][i].unsqueeze(0)\n",
        "    data_labels = data[2][i].unsqueeze(0)\n",
        "\n",
        "    data_inputs1 = data_inputs1.to(device)\n",
        "    data_inputs2 = data_inputs2.to(device)\n",
        "    data_labels = data_labels.to(device)\n",
        "\n",
        "    embedding1, embedding2 = model((data_inputs1, data_inputs2))\n",
        "    dist = torch.linalg.norm(embedding1 - embedding2, dim = 1)\n",
        "\n",
        "    subfig = subfigs[i]\n",
        "    subfig.suptitle('Distance: %.4f, Label: %d'%(dist, data_labels), size='small')\n",
        "    ax = subfig.subplots(nrows=1, ncols=2)\n",
        "    img1_ = data_inputs1[0].cpu().numpy().transpose(1, 2, 0)\n",
        "    ax[0].imshow(img1_)\n",
        "    img2_ = data_inputs2[0].cpu().numpy().transpose(1, 2, 0)\n",
        "    ax[1].imshow(img2_)\n",
        "  plt.show()"
      ],
      "metadata": {
        "id": "sQKctD-2S3jX"
      },
      "execution_count": 15,
      "outputs": []
    },
    {
      "cell_type": "code",
      "source": [],
      "metadata": {
        "id": "5DNgh7rsuqVc"
      },
      "execution_count": null,
      "outputs": []
    }
  ]
}